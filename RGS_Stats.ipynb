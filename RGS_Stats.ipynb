{
 "cells": [
  {
   "cell_type": "code",
   "execution_count": 14,
   "id": "6f09c0c1",
   "metadata": {},
   "outputs": [],
   "source": [
    "import pandas as pd\n",
    "df = pd.read_csv(\"data/RGS_raw_feedback.csv\")\n",
    "#print(df)"
   ]
  },
  {
   "cell_type": "code",
   "execution_count": 10,
   "id": "bfb44cc5",
   "metadata": {},
   "outputs": [
    {
     "name": "stdout",
     "output_type": "stream",
     "text": [
      "37 46\n"
     ]
    }
   ],
   "source": [
    "sci_or_eng_before = (df['Would you be a scientist or engineer? Before']=='Yes').sum()\n",
    "sci_or_eng_after = (df['Would you be a scientist or engineer? After']=='Yes').sum()\n",
    "print(sci_or_eng_before, sci_or_eng_after)"
   ]
  },
  {
   "cell_type": "code",
   "execution_count": 11,
   "id": "8fa5232e",
   "metadata": {},
   "outputs": [
    {
     "name": "stdout",
     "output_type": "stream",
     "text": [
      "88 87\n"
     ]
    }
   ],
   "source": [
    "daily_before = (df['I see science in my daily life? Before']=='Yes').sum()\n",
    "daily_after = (df['I see science in my daily life? After']=='Yes').sum()\n",
    "print(daily_before, daily_after)"
   ]
  },
  {
   "cell_type": "code",
   "execution_count": 12,
   "id": "d5ea16a2",
   "metadata": {},
   "outputs": [
    {
     "name": "stdout",
     "output_type": "stream",
     "text": [
      "72 83\n"
     ]
    }
   ],
   "source": [
    "like_before = (df['I like science? Before']=='Yes').sum()\n",
    "like_after = (df['I like science? After']=='Yes').sum()\n",
    "print(like_before, like_after)"
   ]
  },
  {
   "cell_type": "code",
   "execution_count": 13,
   "id": "b95766e7",
   "metadata": {},
   "outputs": [
    {
     "name": "stdout",
     "output_type": "stream",
     "text": [
      "74\n"
     ]
    }
   ],
   "source": [
    "fun_after = (df['Did you have fun?']=='Yes').sum()\n",
    "print(fun_after)"
   ]
  },
  {
   "cell_type": "code",
   "execution_count": 23,
   "id": "64cc0613",
   "metadata": {},
   "outputs": [
    {
     "data": {
      "text/html": [
       "<table><tr><td>Question</td><td>Before</td><td>After</td></tr><tr><td>Would you be a scientist or engineer?</td><td>37</td><td>46</td></tr><tr><td>I see science in my daily life?</td><td>88</td><td>87</td></tr><tr><td>I like science?</td><td>72</td><td>83</td></tr><tr><td>Did you have fun?</td><td></td><td>74</td></tr></table>"
      ],
      "text/plain": [
       "<IPython.core.display.HTML object>"
      ]
     },
     "metadata": {},
     "output_type": "display_data"
    }
   ],
   "source": [
    "from IPython.display import HTML, display\n",
    "\n",
    "data = [['Question', 'Before', 'After'],\n",
    "        ['Would you be a scientist or engineer?', sci_or_eng_before, sci_or_eng_after],\n",
    "        ['I see science in my daily life?', daily_before, daily_after],\n",
    "        ['I like science?', like_before, like_after],\n",
    "        ['Did you have fun?', '', fun_after],\n",
    "       ]\n",
    "\n",
    "display(HTML(\n",
    "   '<table><tr>{}</tr></table>'.format(\n",
    "       '</tr><tr>'.join(\n",
    "           '<td>{}</td>'.format('</td><td>'.join(str(_) for _ in row)) for row in data)\n",
    "       )\n",
    "))"
   ]
  },
  {
   "cell_type": "code",
   "execution_count": null,
   "id": "fde01de5",
   "metadata": {},
   "outputs": [],
   "source": []
  }
 ],
 "metadata": {
  "kernelspec": {
   "display_name": "Python 3 (ipykernel)",
   "language": "python",
   "name": "python3"
  },
  "language_info": {
   "codemirror_mode": {
    "name": "ipython",
    "version": 3
   },
   "file_extension": ".py",
   "mimetype": "text/x-python",
   "name": "python",
   "nbconvert_exporter": "python",
   "pygments_lexer": "ipython3",
   "version": "3.9.5"
  }
 },
 "nbformat": 4,
 "nbformat_minor": 5
}
