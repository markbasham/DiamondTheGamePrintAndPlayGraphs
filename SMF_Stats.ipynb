{
 "cells": [
  {
   "cell_type": "code",
   "execution_count": 1,
   "id": "6f09c0c1",
   "metadata": {},
   "outputs": [],
   "source": [
    "import pandas as pd\n",
    "df = pd.read_csv(\"data/BoardgamePPSMF.csv\")\n",
    "#print(df)"
   ]
  },
  {
   "cell_type": "code",
   "execution_count": 16,
   "id": "bfb44cc5",
   "metadata": {},
   "outputs": [
    {
     "name": "stdout",
     "output_type": "stream",
     "text": [
      "37 46 111\n"
     ]
    }
   ],
   "source": [
    "sci_or_eng_before_yes = (df['Would you be a scientist or engineer? Before']=='Yes')\n",
    "sci_or_eng_before_no = (df['Would you be a scientist or engineer? Before']=='No')\n",
    "sci_or_eng_after_yes = (df['Would you be a scientist or engineer? After']=='Yes')\n",
    "sci_or_eng_after_no = (df['Would you be a scientist or engineer? After']=='No')\n",
    "sci_or_eng_total = df['Would you be a scientist or engineer? Before'].count()\n",
    "print(sci_or_eng_before, sci_or_eng_after, sci_or_eng_total)"
   ]
  },
  {
   "cell_type": "code",
   "execution_count": 17,
   "id": "8fa5232e",
   "metadata": {},
   "outputs": [
    {
     "name": "stdout",
     "output_type": "stream",
     "text": [
      "88 87 111\n"
     ]
    }
   ],
   "source": [
    "daily_before = (df['I see science in my daily life? Before']=='Yes').sum()\n",
    "daily_after = (df['I see science in my daily life? After']=='Yes').sum()\n",
    "daily_total = df['I see science in my daily life? Before'].count()\n",
    "print(daily_before, daily_after, daily_total)"
   ]
  },
  {
   "cell_type": "code",
   "execution_count": 18,
   "id": "d5ea16a2",
   "metadata": {},
   "outputs": [
    {
     "name": "stdout",
     "output_type": "stream",
     "text": [
      "72 83 111\n"
     ]
    }
   ],
   "source": [
    "like_before = (df['I like science? Before']=='Yes').sum()\n",
    "like_after = (df['I like science? After']=='Yes').sum()\n",
    "like_total = df['I like science? Before'].count()\n",
    "print(like_before, like_after, like_total)"
   ]
  },
  {
   "cell_type": "code",
   "execution_count": 5,
   "id": "b95766e7",
   "metadata": {},
   "outputs": [
    {
     "name": "stdout",
     "output_type": "stream",
     "text": [
      "74\n"
     ]
    }
   ],
   "source": [
    "fun_after = (df['Did you have fun?']=='Yes').sum()\n",
    "print(fun_after)"
   ]
  },
  {
   "cell_type": "code",
   "execution_count": 6,
   "id": "64cc0613",
   "metadata": {},
   "outputs": [
    {
     "data": {
      "text/html": [
       "<table><tr><td>Question</td><td>Before</td><td>After</td></tr><tr><td>Would you be a scientist or engineer?</td><td>37</td><td>46</td></tr><tr><td>I see science in my daily life?</td><td>88</td><td>87</td></tr><tr><td>I like science?</td><td>72</td><td>83</td></tr><tr><td>Did you have fun?</td><td></td><td>74</td></tr></table>"
      ],
      "text/plain": [
       "<IPython.core.display.HTML object>"
      ]
     },
     "metadata": {},
     "output_type": "display_data"
    }
   ],
   "source": [
    "from IPython.display import HTML, display\n",
    "\n",
    "data = [['Question', 'Before', 'After'],\n",
    "        ['Would you be a scientist or engineer?', sci_or_eng_before, sci_or_eng_after],\n",
    "        ['I see science in my daily life?', daily_before, daily_after],\n",
    "        ['I like science?', like_before, like_after],\n",
    "        ['Did you have fun?', '', fun_after],\n",
    "       ]\n",
    "\n",
    "display(HTML(\n",
    "   '<table><tr>{}</tr></table>'.format(\n",
    "       '</tr><tr>'.join(\n",
    "           '<td>{}</td>'.format('</td><td>'.join(str(_) for _ in row)) for row in data)\n",
    "       )\n",
    "))"
   ]
  },
  {
   "cell_type": "code",
   "execution_count": 15,
   "id": "575ef421",
   "metadata": {},
   "outputs": [
    {
     "data": {
      "text/plain": [
       "Would you be a scientist or engineer? Before    111\n",
       "Would you be a scientist or engineer? After     111\n",
       "I see science in my daily life? Before          111\n",
       "I see science in my daily life? After           111\n",
       "I like science? Before                          111\n",
       "I like science? After                           111\n",
       "Being a scientist means? Before                 107\n",
       "Being a scientist means? After                   83\n",
       "Being a scientist means? No replies              29\n",
       "Did you have fun?                               102\n",
       "dtype: int64"
      ]
     },
     "execution_count": 15,
     "metadata": {},
     "output_type": "execute_result"
    }
   ],
   "source": [
    "df.count()"
   ]
  },
  {
   "cell_type": "code",
   "execution_count": 7,
   "id": "fde01de5",
   "metadata": {},
   "outputs": [
    {
     "data": {
      "text/plain": [
       "0       No\n",
       "1      Yes\n",
       "2       No\n",
       "3       No\n",
       "4      Yes\n",
       "      ... \n",
       "106     No\n",
       "107     No\n",
       "108    Yes\n",
       "109    Yes\n",
       "110     No\n",
       "Name: Would you be a scientist or engineer? Before, Length: 111, dtype: object"
      ]
     },
     "execution_count": 7,
     "metadata": {},
     "output_type": "execute_result"
    }
   ],
   "source": [
    "from IPython.display import HTML, display\n",
    "\n",
    "data = [['Question', 'Number of students where a positive/negative change is possible', 'Proportional chamge positive/negative', 'Change positive/negative (confidence)%'],\n",
    "        ['Would you be a scientist or engineer?', (sci_or_eng_total-sci_or_eng_before + '/' + sci_or_eng_before), sci_or_eng_after],\n",
    "        ['I see science in my daily life?', daily_before, daily_after],\n",
    "        ['I like science?', like_before, like_after],\n",
    "        ['Did you have fun?', '', fun_after],\n",
    "       ]\n",
    "\n",
    "display(HTML(\n",
    "   '<table><tr>{}</tr></table>'.format(\n",
    "       '</tr><tr>'.join(\n",
    "           '<td>{}</td>'.format('</td><td>'.join(str(_) for _ in row)) for row in data)\n",
    "       )\n",
    "))"
   ]
  },
  {
   "cell_type": "code",
   "execution_count": null,
   "id": "0b8107b6",
   "metadata": {},
   "outputs": [],
   "source": []
  }
 ],
 "metadata": {
  "kernelspec": {
   "display_name": "Python 3 (ipykernel)",
   "language": "python",
   "name": "python3"
  },
  "language_info": {
   "codemirror_mode": {
    "name": "ipython",
    "version": 3
   },
   "file_extension": ".py",
   "mimetype": "text/x-python",
   "name": "python",
   "nbconvert_exporter": "python",
   "pygments_lexer": "ipython3",
   "version": "3.10.9"
  }
 },
 "nbformat": 4,
 "nbformat_minor": 5
}
