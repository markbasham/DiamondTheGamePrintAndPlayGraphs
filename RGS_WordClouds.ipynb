{
 "cells": [
  {
   "cell_type": "code",
   "execution_count": 2,
   "id": "2114f3a5",
   "metadata": {},
   "outputs": [
    {
     "name": "stdout",
     "output_type": "stream",
     "text": [
      "    Would you be a scientist or engineer?  \\\n",
      "0                          Before playing   \n",
      "1                                      No   \n",
      "2                                     Yes   \n",
      "3                                      No   \n",
      "4                                      No   \n",
      "..                                    ...   \n",
      "107                                    No   \n",
      "108                                    No   \n",
      "109                                   Yes   \n",
      "110                                   Yes   \n",
      "111                                    No   \n",
      "\n",
      "    Would you be a scientist or engineer?.1 I see science in my daily life  \\\n",
      "0                             After playing                 Before playing   \n",
      "1                                        No                             No   \n",
      "2                                        No                             No   \n",
      "3                                        No                            Yes   \n",
      "4                                        No                            Yes   \n",
      "..                                      ...                            ...   \n",
      "107                                   Blank                            Yes   \n",
      "108                                   Blank                            Yes   \n",
      "109                                   Blank                            Yes   \n",
      "110                                     Yes                            Yes   \n",
      "111                                      No            kind of im not sure   \n",
      "\n",
      "    I see science in my daily life.1  I like science I like science.1  \\\n",
      "0                      After playing  Before playing    After playing   \n",
      "1                                Yes              No              Yes   \n",
      "2                                Yes             Yes              Yes   \n",
      "3                                Yes              No              Yes   \n",
      "4                                Yes             Yes              Yes   \n",
      "..                               ...             ...              ...   \n",
      "107                              Yes              No            Blank   \n",
      "108                              Yes              No            Blank   \n",
      "109                            Blank             Yes            Blank   \n",
      "110                              Yes             Yes              Yes   \n",
      "111                      im not sure              No              Yes   \n",
      "\n",
      "                               Being a scientist means  \\\n",
      "0                                       Before playing   \n",
      "1                                              Potions   \n",
      "2    Learning more about living things and testing ...   \n",
      "3      Finding out things to help people and the earth   \n",
      "4                                     Inventing things   \n",
      "..                                                 ...   \n",
      "107                                to create something   \n",
      "108                                to create something   \n",
      "109  discovering more about the world and humans ar...   \n",
      "110  Learning more about living things and testing ...   \n",
      "111                                                NaN   \n",
      "\n",
      "                             Being a scientist means.1  \\\n",
      "0                                        After playing   \n",
      "1                      Learning\\nExperiment\\nScientist   \n",
      "2                                        Experimenting   \n",
      "3    Someone who finds fact, experiments with subst...   \n",
      "4                    To experiment and find out things   \n",
      "..                                                 ...   \n",
      "107                                                NaN   \n",
      "108                                                NaN   \n",
      "109                                                NaN   \n",
      "110                                          discovery   \n",
      "111                               im not entierly sure   \n",
      "\n",
      "    Being a scientist means.2 Did you have fun?  \n",
      "0                  No replies               NaN  \n",
      "1                         NaN               Yes  \n",
      "2                         NaN               Yes  \n",
      "3                         NaN               Yes  \n",
      "4                         NaN               Yes  \n",
      "..                        ...               ...  \n",
      "107                         1               NaN  \n",
      "108                         1               NaN  \n",
      "109                         1               NaN  \n",
      "110                       NaN               yes  \n",
      "111                         1               yes  \n",
      "\n",
      "[112 rows x 10 columns]\n"
     ]
    }
   ],
   "source": [
    "import pandas as pd\n",
    "df = pd.read_csv(\"data/RGS_raw_feedback.csv\")\n",
    "print(df)"
   ]
  },
  {
   "cell_type": "code",
   "execution_count": 12,
   "id": "8ad42735",
   "metadata": {},
   "outputs": [
    {
     "name": "stdout",
     "output_type": "stream",
     "text": [
      "['Before', 'playing', 'Potions', 'Learning', 'more', 'about', 'living', 'things', 'and', 'testing', 'things', 'out', 'Finding', 'out', 'things', 'to', 'help', 'people', 'and', 'the', 'earth', 'Inventing', 'things', 'To', 'learn', 'and', 'have', 'knowledge', 'about', 'science.', 'Scientists', 'also', 'experiment', 'to', 'try', 'find', 'things', 'that', 'the', 'human', 'life', \"hasn't\", 'experimented', 'yet.', 'They', 'also', 'discover', 'things', 'that', 'happened', 'in', 'the', 'past.', 'I', 'think', 'being', 'a', 'scientist', 'means', 'creating', 'new', 'things', 'Experimenting', 'to', 'find', 'things', 'that', 'help', 'humanity', 'and', 'studying', 'for', 'ages', 'to', 'be', 'able', 'to', 'know', 'how', 'to', 'do', 'it', 'and', 'fix', 'it', 'if', 'it', 'goes', 'wrong.', 'Key', 'words:', 'experimenting,', 'theory,', 'curiosity,', 'knowledge,', 'study,', 'error,', 'intelligent,', 'trial,', 'fact', 'A', 'person', 'who', 'finds', 'solutions', 'to', 'problems', 'and', 'looks', 'into', 'thing', 'deeply', 'or', 'with', 'caution', 'Getting', 'money', 'Exploring/going', 'deeper', 'into', 'things', '+', 'finding', 'things', 'It', 'means', 'to', 'discover', 'new', 'things:', 'curiosity,', 'study,', 'research,', 'evidence,', 'knowledge', 'Being', 'able', 'to', 'know', 'wha', 'most', 'things', 'mean', 'in', 'a', 'tecocpe,', 'fact', 'experiment,', 'study,', 'discover,', 'eligre,', 'intelligent', 'facts,', 'creativity,', 'discovery,', 'knowledge,', 'error,', 'trial', 'facts,', 'creativity,', 'oiscarely,', 'knowbely', 'formulas,', 'facts,', 'research,', 'theory,', 'knowledge,', 'evidence,', 'life,', 'trial,', 'error,', 'proof,', 'explain', 'facts,', 'research,', 'learning,', 'knowledge,', 'formulas,', 'theory,', 'evidence,', 'proof,', 'explain', 'You', 'have', 'a', 'job', 'to', 'do', 'with', 'physics,', 'chemistry', 'or', 'biology.', 'Intelligence,', 'error,', 'creativity,', 'potions', 'experiments,', 'working', 'hard,', 'fun,', 'success,', 'failure,', 'suspense,', 'exciting', 'experimenting,', 'having', 'fun,', 'being', 'creative,', 'be', 'careful,', 'exciting', 'Finding', 'out', 'new', 'thigs', 'by', 'mixing', 'potions', 'study', 'discover', 'knowledge', 'experiencing', 'life', 'fun,', 'research,', 'prove', 'wrong', 'discovery,', 'study,', 'degree,', 'smarts,', 'reserch,', 'theory,', 'evidence', 'knowing', 'a', 'lot', 'about', 'chemistry,', 'biology', 'and', 'physics', 'studying', 'science', 'I', 'think', 'being', 'a', 'scientist', 'means', 'to', 'discover', 'more', 'about', 'life', '&', 'create', 'new', 'things', 'research,', 'phscale', 'indicator,', 'curiosity,', 'intelligence,', 'theory,', 'knowledge,', 'potions,', 'experiment', 'Someone', 'who', 'researches', 'things,', 'smart,', 'experiments,', 'discovery', 'to', 'ask', 'questions', 'and', 'answers', 'if', 'know', 'what', 'it', 'means', 'to', 'answer', 'your', 'question', 'Going', 'to', 'the', 'lab', 'and', 'doing', 'some', 'experiment', 'and', 'trying', 'to', 'experiment', 'new', 'stuff', 'and', 'able', 'to', 'know', 'how', 'to', 'use', 'a', 'telescope', 'and', 'what', 'happens', 'when', 'risk,', 'discovery,', 'teamwork,', 'falure,', 'success', 'Doing', 'fun', 'experiments,', 'working', 'hard', 'everyday,', 'and', 'finding', 'out', 'and', 'new', 'stuff', 'all', 'the', 'time', 'making', 'medicines,', 'research,', 'evidence', 'degree,', 'intelligent,', 'discover,', 'invent,', 'research,', 'explosion', 'discover,', 'degree,', 'intelligent,', 'life,', 'evidence,', 'research', \"you're\", 'clever', 'and', 'know', 'how', 'stuff', 'work.', 'I', 'don’t', 'know', 'discover,', 'learn,', 'theory', 'being', 'a', 'scientist', 'means', 'researching', 'and', 'helping', 'the', 'economy', 'and', 'the', 'people/things', 'on', 'it', 'learn', 'what', 'a', 'scientist', 'does', 'finding', 'out', 'things', 'that', 'humans', 'cant', 'find', 'discovering', 'and', 'experimenting', 'new', 'stuff', 'discovering', 'and', 'experiments,', 'new', 'stuff', 'Experimenting', 'new', 'stuffs', 'and', 'discover', 'things', 'finding', 'out', 'information', 'and', 'using', 'it', 'to', 'help', 'others', 'and', 'the', 'world', 'Discovering', 'new', 'things', 'in', 'everyday', 'actions', 'or', 'things', 'making', 'posions', 'I', 'don’t', 'know', 'I', 'don’t', 'know', 'you', 'are', 'interested', 'in', 'finding', 'out', 'new', 'things', 'exploring', 'different', 'places', 'safety,', 'trial', 'and', 'error,', 'precision', 'doing', 'fun', 'experiments,', 'working', 'hard', 'every', 'day', 'and', 'finding', 'out', 'and', 'new', 'stuffs', 'all', 'the', 'time', 'making', 'posions', 'writing', 'too', 'bad', 'to', 'decipher,', 'sorry', 'discover,', 'experience,', 'creativity,', 'curiosity', 'discover', 'life,', 'smart,', 'curious,', 'research,', 'evidence,', 'theory', 'facts,', 'experiments,', 'discover,', 'smart,', 'degree,', 'curiosity,', 'intelligient', 'studying', 'or', 'helping', 'people', 'with', 'stuff', 'that', 'has', 'been', 'disborerd', 'having', 'a', 'good', 'amount', 'of', 'knowledge', 'will', 'help', 'having', 'a', 'broad', 'amount', 'of', 'knowledge', 'to', 'help', 'you', 'to', 'discover', 'trial', 'error', 'doing', 'experiments', 'Experiment,', 'discover,', 'chemistry,', 'physics,', 'biology,', 'study,', 'smart,', 'invent,', 'curious,', 'research,', 'theory,', 'knowledge,', 'error,', 'trial', 'life,', 'experiments,', 'mistakes,', 'intelligent,', 'curious,', 'inventive,', 'inspirational', 'being', 'creative', 'and', 'reliable', 'is', 'the', 'meaning', 'of', 'being', 'a', 'scientist', 'life,', 'knowledge,', 'potions,', 'smart,', 'experiments', 'smart,', 'experiment,', 'elements,', 'cells,', 'chemicals,', 'engineer', 'facts,', 'experiments,', 'smart,', 'potions,', 'debate', 'doing', 'science,', 'discovery', '->', 'debate,', 'creativity,', 'study,', 'potions', 'experimentation,', 'elements,', 'chemicals,', 'inventor', 'someone', 'who', 'does', 'cool', 'experiments', 'with', 'lots', 'of', 'cool', 'stuff', 'it', 'means', 'being', 'curious', 'about', 'the', 'world', 'around', 'us', 'and', 'doing', 'experiments', 'to', 'find', 'things', 'out', 'people', 'who', 'study', 'the', 'science', 'of', 'life', 'being', 'a', 'scientist', 'means', 'to', 'find', 'out', 'things', 'doing', 'experiments', 'while', 'learing', 'new', 'things', 'experimenting,', 'studying,', 'life', 'working', 'hard', 'scientist', 'means', 'to', 'me,', 'someone', 'who', 'someone', 'who', 'discovers', 'and', 'research', 'new', 'information', 'experimenting,', 'learning', 'new', 'boundaries,', 'knowing', 'things', 'you', \"didn't\", 'before', 'that', 'you', 'are', 'smart', 'and', 'a', 'good', 'person', 'at', 'science', 'intelligent,', 'discover,', 'smart,', 'curiosity,', 'experiment', 'being', 'a', 'scientists', 'having', 'facts,', 'experience', '&', 'experience,', 'experiments,', 'creativity', '&', 'curiosity', 'experiments,', 'learning,', 'information,', 'potions', 'some', 'experiments', 'are', 'boring', 'stuff.', 'Experiments,', 'facts,', 'discover,', 'potions,', 'degree,', 'curiousity,', 'research,', 'evidence,', 'knowledge', 'knowing', 'how', 'to', 'be', 'able', 'to', 'deal', 'with', 'many', 'chemicals,', 'words,', 'potions,', 'study,', 'discover', 'chemicals', 'to', 'make', 'posions,', 'explore', 'and', 'teach', 'space,', 'measurments', 'and', 'power', 'reseach,', 'st', 'Lioly,', 'knowledge', 'discovering', 'about', 'the', 'world', 'being', 'smart,', 'facts,', 'experiment,', 'potions,', 'risky,', 'mixture,', 'degree,', 'curiosity,', 'debate,', 'intelligence', 'smart,', 'facts,', 'experiment,', 'potions,', 'mixture,', 'degree,', 'curiosity,', 'debate,', 'intelligence', 'to', 'explore', 'the', 'world', 'around', 'you', '(and', 'disagreeing)', 'experiment,', 'smart,', 'theory,', 'trial', '+', 'error', 'it', 'means:', 'engineer,', 'smart,', 'helpful,', 'mathematics', 'idk=I', 'don’t', 'know', 'to', 'learn', 'new', 'stuff', 'about', 'something', 'to', 'save', 'lives', 'and', 'discover', 'new', 'stuff', 'studying', 'how', 'living', 'things', 'and', 'other', 'things', 'such', 'as', 'technology', 'work', 'making', 'and', 'inventing', 'things', 'doing', 'fun', 'experiments.', 'Also', 'working', 'hard', 'every', 'day', 'and', 'finding', 'out', 'new', 'stuff', 'all', 'the', 'time.', 'working', 'out', 'things', 'and', 'how', 'they', 'work/are', 'manufactured', 'looking', 'at', 'think', 'and', 'how', 'they', 'work', 'looking', 'at', 'things', 'and', 'how', 'they', 'work/manufactured.', 'How', 'the', 'world', 'and', 'its', 'inhabitants', 'work', 'and', 'lor', 'live.', 'to', 'create', 'something', 'to', 'create', 'something', 'discovering', 'more', 'about', 'the', 'world', 'and', 'humans', 'around', 'us', 'Learning', 'more', 'about', 'living', 'things', 'and', 'testing', 'things', 'out']\n"
     ]
    }
   ],
   "source": [
    "words = []\n",
    "for a in df['Being a scientist means'].fillna(''):\n",
    "    words = words + a.split()\n",
    "print(words)"
   ]
  },
  {
   "cell_type": "code",
   "execution_count": 13,
   "id": "915efdf7",
   "metadata": {},
   "outputs": [
    {
     "ename": "ModuleNotFoundError",
     "evalue": "No module named 'wordcloud'",
     "output_type": "error",
     "traceback": [
      "\u001b[0;31m---------------------------------------------------------------------------\u001b[0m",
      "\u001b[0;31mModuleNotFoundError\u001b[0m                       Traceback (most recent call last)",
      "\u001b[0;32m/tmp/ipykernel_29/2177550451.py\u001b[0m in \u001b[0;36m<module>\u001b[0;34m\u001b[0m\n\u001b[0;32m----> 1\u001b[0;31m \u001b[0;32mfrom\u001b[0m \u001b[0mwordcloud\u001b[0m \u001b[0;32mimport\u001b[0m \u001b[0mWordCloud\u001b[0m\u001b[0;34m,\u001b[0m \u001b[0mSTOPWORDS\u001b[0m\u001b[0;34m\u001b[0m\u001b[0;34m\u001b[0m\u001b[0m\n\u001b[0m",
      "\u001b[0;31mModuleNotFoundError\u001b[0m: No module named 'wordcloud'"
     ]
    }
   ],
   "source": [
    "from wordcloud import WordCloud, STOPWORDS"
   ]
  },
  {
   "cell_type": "code",
   "execution_count": null,
   "id": "d880b31d",
   "metadata": {},
   "outputs": [],
   "source": []
  }
 ],
 "metadata": {
  "kernelspec": {
   "display_name": "Python 3 (ipykernel)",
   "language": "python",
   "name": "python3"
  },
  "language_info": {
   "codemirror_mode": {
    "name": "ipython",
    "version": 3
   },
   "file_extension": ".py",
   "mimetype": "text/x-python",
   "name": "python",
   "nbconvert_exporter": "python",
   "pygments_lexer": "ipython3",
   "version": "3.9.5"
  }
 },
 "nbformat": 4,
 "nbformat_minor": 5
}
